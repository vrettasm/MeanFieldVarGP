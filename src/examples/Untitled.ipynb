{
 "cells": [
  {
   "cell_type": "code",
   "execution_count": 1,
   "id": "73197fb1-117c-4f9c-8720-49615601c5ea",
   "metadata": {},
   "outputs": [],
   "source": [
    "import os, sys"
   ]
  },
  {
   "cell_type": "code",
   "execution_count": 2,
   "id": "4d6bf7f8-546d-4f56-8867-6c2d9bae1325",
   "metadata": {},
   "outputs": [],
   "source": [
    "import sympy as sym"
   ]
  },
  {
   "cell_type": "code",
   "execution_count": 3,
   "id": "619f41ec-eb70-4e32-b9c8-ff221c0a50da",
   "metadata": {},
   "outputs": [],
   "source": [
    "from sympy.stats import E, variance, Normal"
   ]
  },
  {
   "cell_type": "code",
   "execution_count": 4,
   "id": "4c1989b7-e48e-4fa5-8eeb-7adadf155519",
   "metadata": {},
   "outputs": [],
   "source": [
    "from copy import deepcopy"
   ]
  },
  {
   "cell_type": "code",
   "execution_count": 5,
   "id": "cc882c72-f65a-4423-90c6-b5545eeb6b84",
   "metadata": {},
   "outputs": [],
   "source": [
    "sys.path.insert(0, os.path.abspath('../../src/'))"
   ]
  },
  {
   "cell_type": "code",
   "execution_count": 6,
   "id": "d7a5af00-f0ce-4efd-b33b-f5fda46b1108",
   "metadata": {},
   "outputs": [],
   "source": [
    "from numerical.symbolics import LagrangePolynomial"
   ]
  },
  {
   "cell_type": "code",
   "execution_count": 7,
   "id": "8887ae9f-482d-47b3-a284-285f37df512e",
   "metadata": {},
   "outputs": [],
   "source": [
    "# Help make the out easier to read.\n",
    "sym.init_printing(use_unicode=True)"
   ]
  },
  {
   "cell_type": "markdown",
   "id": "fffe1703-a2e6-46fa-920f-9237b612bde2",
   "metadata": {},
   "source": [
    "## Double-Well equations\n",
    "\n",
    "For this system we just need to make the following replacements ..."
   ]
  },
  {
   "cell_type": "code",
   "execution_count": null,
   "id": "8e756644-c93d-4f05-922d-0ad9c9805cba",
   "metadata": {
    "tags": []
   },
   "outputs": [],
   "source": [
    "# Double well drift function f(x).\n",
    "# \n",
    "# D = 1\n",
    "# \n",
    "# fx = sym.Matrix((4 * xt) * (p - xt**2), real=True); fx\n",
    "# \n",
    "# p = sym.Matrix([sym.symbols(\"theta\", real=True)])\n",
    "# "
   ]
  },
  {
   "cell_type": "markdown",
   "id": "620edf92-b3dd-4dec-a8b3-27b8def1f8f0",
   "metadata": {},
   "source": [
    "## Lorenz - 3D equations"
   ]
  },
  {
   "cell_type": "markdown",
   "id": "78283361-9825-4f20-967b-4f293326783e",
   "metadata": {},
   "source": [
    "### First define the main variables."
   ]
  },
  {
   "cell_type": "code",
   "execution_count": 8,
   "id": "37230d60-f326-4a28-a17d-fff9f96b9336",
   "metadata": {},
   "outputs": [],
   "source": [
    "# Systems dimensions.\n",
    "D = 3\n",
    "\n",
    "# Mean and variance functions: m(t), s(t).\n",
    "mt = sym.symbols(f\"m:{D+1}(t)\", real=True)\n",
    "st = sym.symbols(f\"s:{D+1}(t)\", real=True, positive=True)\n",
    "\n",
    "# Random (state) vector: x(t).\n",
    "xt = sym.Matrix([Normal(f\"x{i}(t)\", mt[i], sym.sqrt(st[i])) for i in range(D)])\n",
    "\n",
    "# System noise (diffusion) coefficient vector: sig := sigma^2.\n",
    "sig = sym.symbols(f\"Sig:{D}\", real=True, positive=True)\n",
    "\n",
    "# Model (drift) parameters vector.\n",
    "p = sym.Matrix([sym.symbols(\"sigma rho beta\", real=True)])"
   ]
  },
  {
   "cell_type": "markdown",
   "id": "6a8299b9-c2c7-44d8-ad0d-44c671bef574",
   "metadata": {},
   "source": [
    "### Compute the mean/variance Lagrange functions."
   ]
  },
  {
   "cell_type": "code",
   "execution_count": 9,
   "id": "80c0661e-df68-4350-a4a8-2450b5bfd1ec",
   "metadata": {},
   "outputs": [
    {
     "name": "stdout",
     "output_type": "stream",
     "text": [
      "Done!\n"
     ]
    }
   ],
   "source": [
    "# Store the mean and variance functions.\n",
    "Mfun = []\n",
    "Sfun = []\n",
    "\n",
    "# Store the time derivative of the mean and variance functions.\n",
    "dMt = []\n",
    "dSt = []\n",
    "\n",
    "# Store the mean and variance points.\n",
    "Mpar = []\n",
    "Spar = []\n",
    "\n",
    "# Create one polynomial function for each dimension.\n",
    "for i in range(D):\n",
    "    \n",
    "    # Create the mean/variance polynomials.\n",
    "    mt_i, t, mk_i, t_h = LagrangePolynomial(letter=f\"d{i}m\", order=3, fp=\"h\")\n",
    "    st_i, t, sk_i, t_c = LagrangePolynomial(letter=f\"d{i}s\", order=2, fp=\"c\")\n",
    "    \n",
    "    # Store the functions.\n",
    "    Mfun.append(mt_i)\n",
    "    Sfun.append(st_i)\n",
    "    \n",
    "    # Store the Lagrange coefficients.\n",
    "    Mpar.append(mk_i)\n",
    "    Spar.append(sk_i)\n",
    "    \n",
    "    # Get the time derivative functions.\n",
    "    dMt.append(mt_i.diff(t))\n",
    "    dSt.append(st_i.diff(t))\n",
    "    \n",
    "# _end_for_\n",
    "\n",
    "print(\"Done!\")"
   ]
  },
  {
   "cell_type": "code",
   "execution_count": null,
   "id": "12cad13f-bcec-4813-b179-f1b537fe050d",
   "metadata": {},
   "outputs": [],
   "source": []
  },
  {
   "cell_type": "markdown",
   "id": "04ed8de8-ad92-4bf6-b7c2-552f07f41484",
   "metadata": {},
   "source": [
    "### Compute the expectations."
   ]
  },
  {
   "cell_type": "code",
   "execution_count": 10,
   "id": "74330564-87b0-4a2a-9d7a-8bd51eedbb94",
   "metadata": {},
   "outputs": [
    {
     "data": {
      "image/png": "[encoded data removed]",
      "text/latex": [
       "$\\displaystyle \\left[\\begin{matrix}m0(t)\\\\m1(t)\\\\m2(t)\\end{matrix}\\right]$"
      ],
      "text/plain": [
       "⎡m0(t)⎤\n",
       "⎢     ⎥\n",
       "⎢m1(t)⎥\n",
       "⎢     ⎥\n",
       "⎣m2(t)⎦"
      ]
     },
     "execution_count": 10,
     "metadata": {},
     "output_type": "execute_result"
    }
   ],
   "source": [
    "Ex = E(xt); Ex"
   ]
  },
  {
   "cell_type": "code",
   "execution_count": 11,
   "id": "e6ae317a-b40e-46b1-ba10-fa6d3522f0d8",
   "metadata": {},
   "outputs": [
    {
     "data": {
      "image/png": "[encoded data removed]",
      "text/latex": [
       "$\\displaystyle \\left[\\begin{matrix}\\sigma \\left(- x0(t) + x1(t)\\right)\\\\\\left(\\rho - x2(t)\\right) x0(t) - x1(t)\\\\- \\beta x2(t) + x0(t) x1(t)\\end{matrix}\\right]$"
      ],
      "text/plain": [
       "⎡   σ⋅(-x0(t) + x1(t))    ⎤\n",
       "⎢                         ⎥\n",
       "⎢(ρ - x2(t))⋅x0(t) - x1(t)⎥\n",
       "⎢                         ⎥\n",
       "⎣ -β⋅x2(t) + x0(t)⋅x1(t)  ⎦"
      ]
     },
     "execution_count": 11,
     "metadata": {},
     "output_type": "execute_result"
    }
   ],
   "source": [
    "fx = sym.Matrix([p[0]*(xt[1] - xt[0]),\n",
    "                 xt[0]*(p[1] - xt[2]) - xt[1],\n",
    "                 xt[0]*xt[1] - p[2]*xt[2]], real=True); fx"
   ]
  },
  {
   "cell_type": "code",
   "execution_count": 12,
   "id": "ffdf11bd-8509-4d2a-a884-f9c7b40ec1eb",
   "metadata": {},
   "outputs": [
    {
     "data": {
      "image/png": "[encoded data removed]",
      "text/latex": [
       "$\\displaystyle \\left[\\begin{matrix}- \\sigma & \\sigma & 0\\\\\\rho - x2(t) & -1 & - x0(t)\\\\x1(t) & x0(t) & - \\beta\\end{matrix}\\right]$"
      ],
      "text/plain": [
       "⎡   -σ        σ      0   ⎤\n",
       "⎢                        ⎥\n",
       "⎢ρ - x2(t)   -1    -x0(t)⎥\n",
       "⎢                        ⎥\n",
       "⎣  x1(t)    x0(t)    -β  ⎦"
      ]
     },
     "execution_count": 12,
     "metadata": {},
     "output_type": "execute_result"
    }
   ],
   "source": [
    "dfxdx = fx.jacobian(xt); dfxdx"
   ]
  },
  {
   "cell_type": "code",
   "execution_count": 13,
   "id": "3f31b645-2516-4286-b737-b05bbf52f1b0",
   "metadata": {},
   "outputs": [
    {
     "data": {
      "image/png": "[encoded data removed]",
      "text/latex": [
       "$\\displaystyle \\left[\\begin{matrix}\\sigma \\left(- m0(t) + m1(t)\\right)\\\\- m0(t) m2(t) + m0(t) \\rho - m1(t)\\\\- \\beta m2(t) + m0(t) m1(t)\\end{matrix}\\right]$"
      ],
      "text/plain": [
       "⎡      σ⋅(-m0(t) + m1(t))      ⎤\n",
       "⎢                              ⎥\n",
       "⎢-m0(t)⋅m2(t) + m0(t)⋅ρ - m1(t)⎥\n",
       "⎢                              ⎥\n",
       "⎣    -β⋅m2(t) + m0(t)⋅m1(t)    ⎦"
      ]
     },
     "execution_count": 13,
     "metadata": {},
     "output_type": "execute_result"
    }
   ],
   "source": [
    "# E[f(x)]\n",
    "Efx = E(fx).simplify(); Efx"
   ]
  },
  {
   "cell_type": "code",
   "execution_count": 14,
   "id": "1e12af1a-4cd0-41c9-9ae3-80c32c9856c7",
   "metadata": {},
   "outputs": [
    {
     "data": {
      "image/png": "[encoded data removed]",
      "text/latex": [
       "$\\displaystyle \\left[\\begin{matrix}\\sigma^{2} \\left(m0(t)^{2} - 2 m0(t) m1(t) + m1(t)^{2} + s0(t) + s1(t)\\right)\\\\m0(t)^{2} m2(t)^{2} - 2 m0(t)^{2} m2(t) \\rho + m0(t)^{2} \\rho^{2} + m0(t)^{2} s2(t) + 2 m0(t) m1(t) m2(t) - 2 m0(t) m1(t) \\rho + m1(t)^{2} + m2(t)^{2} s0(t) - 2 m2(t) \\rho s0(t) + \\rho^{2} s0(t) + s0(t) s2(t) + s1(t)\\\\\\beta^{2} m2(t)^{2} + \\beta^{2} s2(t) - 2 \\beta m0(t) m1(t) m2(t) + m0(t)^{2} m1(t)^{2} + m0(t)^{2} s1(t) + m1(t)^{2} s0(t) + s0(t) s1(t)\\end{matrix}\\right]$"
      ],
      "text/plain": [
       "⎡                                                              2 ⎛     2      \n",
       "⎢                                                             σ ⋅⎝m0(t)  - 2⋅m\n",
       "⎢                                                                             \n",
       "⎢     2      2          2                2  2        2                        \n",
       "⎢m0(t) ⋅m2(t)  - 2⋅m0(t) ⋅m2(t)⋅ρ + m0(t) ⋅ρ  + m0(t) ⋅s2(t) + 2⋅m0(t)⋅m1(t)⋅m\n",
       "⎢                                                                             \n",
       "⎢                                    2      2    2                            \n",
       "⎣                                   β ⋅m2(t)  + β ⋅s2(t) - 2⋅β⋅m0(t)⋅m1(t)⋅m2(\n",
       "\n",
       "                  2                ⎞                                          \n",
       "0(t)⋅m1(t) + m1(t)  + s0(t) + s1(t)⎠                                          \n",
       "                                                                              \n",
       "                              2        2                            2         \n",
       "2(t) - 2⋅m0(t)⋅m1(t)⋅ρ + m1(t)  + m2(t) ⋅s0(t) - 2⋅m2(t)⋅ρ⋅s0(t) + ρ ⋅s0(t) + \n",
       "                                                                              \n",
       "          2      2        2              2                                    \n",
       "t) + m0(t) ⋅m1(t)  + m0(t) ⋅s1(t) + m1(t) ⋅s0(t) + s0(t)⋅s1(t)                \n",
       "\n",
       "                   ⎤\n",
       "                   ⎥\n",
       "                   ⎥\n",
       "                   ⎥\n",
       "s0(t)⋅s2(t) + s1(t)⎥\n",
       "                   ⎥\n",
       "                   ⎥\n",
       "                   ⎦"
      ]
     },
     "execution_count": 14,
     "metadata": {},
     "output_type": "execute_result"
    }
   ],
   "source": [
    "# E[f(x)^2]\n",
    "Efx2 = E(fx.multiply_elementwise(fx)).simplify(); Efx2"
   ]
  },
  {
   "cell_type": "code",
   "execution_count": 15,
   "id": "b382278d-741d-4477-b8d7-b22476ffc21b",
   "metadata": {},
   "outputs": [
    {
     "data": {
      "image/png": "[encoded data removed]",
      "text/latex": [
       "$\\displaystyle \\left[\\begin{matrix}- \\sigma & -1 & - \\beta\\end{matrix}\\right]$"
      ],
      "text/plain": [
       "[-σ  -1  -β]"
      ]
     },
     "execution_count": 15,
     "metadata": {},
     "output_type": "execute_result"
    }
   ],
   "source": [
    "# E[dfx/dx]\n",
    "Edfxdx = E(dfxdx).diagonal().simplify(); Edfxdx"
   ]
  },
  {
   "cell_type": "markdown",
   "id": "e9b6406d-cba5-47f9-8d08-27da8f5cf7e1",
   "metadata": {},
   "source": [
    "### Put all the $E_{sde}$ terms together.\n",
    "\n",
    "These is given by the expression:\n",
    "\n",
    "$E_{sde}(t) = \\frac{1}{2} \\sum_{i=1}^{D} \\frac{1}{\\sigma_{i}^2} \\bigg( E[f_{i}^2]_{q_t} -2 E[f_{i}]_{q_t} \\dot{m_i}(t) + \\dot{m_i}^2(t) + \\frac{(\\dot{s_i}(t) - \\sigma_{i}^2)^2}{4 s_{i}(t)} + (\\sigma_{i}^2 - \\dot{s_i}(t)) E\\big[\\frac{\\partial f_i}{\\partial x_i}\\big]_{q_t}\\bigg)$\n",
    "\n",
    "Where $E[\\cdot]_{q_t}$ is the expected value with respect to the Gaussian process."
   ]
  },
  {
   "cell_type": "code",
   "execution_count": 16,
   "id": "dd19f1e2-271c-4d04-9bf1-f3748477113a",
   "metadata": {},
   "outputs": [
    {
     "name": "stdout",
     "output_type": "stream",
     "text": [
      "Estimating Esde_0 ...\n",
      "Estimating Esde_1 ...\n",
      "Estimating Esde_2 ...\n",
      "Done!\n"
     ]
    }
   ],
   "source": [
    "# Stores the Esde_i.\n",
    "Esde = []\n",
    "\n",
    "# Get the expression for each dimension.\n",
    "for i in range(D):\n",
    "    \n",
    "    # Display info.\n",
    "    print(f\"Estimating Esde_{i} ...\")\n",
    "    \n",
    "    # Update the list.\n",
    "    Esde.append(Efx2[i] - (2.0 * Efx[i] * dMt[i]) + dMt[i]**2 + (dSt[i] - sig[i])**2/(4.0 * Sfun[i]) + (sig[i] - dSt[i]) * Edfxdx[i])\n",
    "    \n",
    "# _end_for_\n",
    "\n",
    "print(\"Done!\")"
   ]
  },
  {
   "cell_type": "code",
   "execution_count": null,
   "id": "b4eafe06-4cde-4e6c-a113-9fe0a3c740ce",
   "metadata": {},
   "outputs": [],
   "source": []
  },
  {
   "cell_type": "code",
   "execution_count": 17,
   "id": "5beccbd7-5641-4c91-8e13-dd031f188207",
   "metadata": {},
   "outputs": [
    {
     "name": "stdout",
     "output_type": "stream",
     "text": [
      "Processing dimension: 0 ...\n",
      "Processing dimension: 1 ...\n",
      "Processing dimension: 2 ...\n",
      "Done! (Count collect = 3)\n"
     ]
    }
   ],
   "source": [
    "# Stores the parameterized Esde.\n",
    "Esde_dk = []\n",
    "\n",
    "# Count the succesful simplifications.\n",
    "count_collect = 0\n",
    "\n",
    "# Process each dimension separately.\n",
    "for i in range(D):\n",
    "    \n",
    "    # Display info.\n",
    "    print(f\"Processing dimension: {i} ...\")\n",
    "    \n",
    "    # Initialize temporary result.\n",
    "    tmp_Ei = deepcopy(Esde[i])\n",
    "    \n",
    "    # Replace the mean functions.\n",
    "    for j, mf_j in enumerate(Mfun):\n",
    "        tmp_Ei = tmp_Ei.replace(mt[j], mf_j)\n",
    "    # _end_for_\n",
    "    \n",
    "    # Replace the variance functions.\n",
    "    for j, sf_j in enumerate(Sfun):\n",
    "        tmp_Ei = tmp_Ei.replace(st[j], sf_j)\n",
    "    # _end_for_\n",
    "        \n",
    "    # Atempt a \"collect\" simplification.\n",
    "    collect_expr = tmp_Ei.collect(Mpar[i]).collect(Spar[i])\n",
    "    \n",
    "    # Make sure the expressions are equal.\n",
    "    if tmp_Ei.equals(collect_expr):\n",
    "        \n",
    "        # Append the simplified expression.\n",
    "        Esde_dk.append(collect_expr)\n",
    "        \n",
    "        # Increase the success counter.\n",
    "        count_collect += 1\n",
    "    else:\n",
    "        \n",
    "        # Append the non-simplified expression.\n",
    "        Esde_dk.append(tmp_Ei)\n",
    "    # _end_if_\n",
    "    \n",
    "# _end_for_\n",
    "\n",
    "print(f\"Done! (Count collect = {count_collect})\")"
   ]
  },
  {
   "cell_type": "code",
   "execution_count": null,
   "id": "df355019-d3b9-468c-8b1a-33b414ebfcd6",
   "metadata": {},
   "outputs": [],
   "source": [
    "for l, Ei in enumerate(Esde_dk):\n",
    "    \n",
    "    print(f\"Showing dimension {l}:\\n\")\n",
    "    \n",
    "    sym.pprint(Ei)\n",
    "# _end_for_\n",
    "\n",
    "print(\"Finished!\")"
   ]
  },
  {
   "cell_type": "code",
   "execution_count": null,
   "id": "75ea6c5d-9f0b-4247-b732-5046df2edf49",
   "metadata": {},
   "outputs": [],
   "source": []
  },
  {
   "cell_type": "markdown",
   "id": "2b962ffa-7d55-4def-8dcb-e8f04d8c191b",
   "metadata": {
    "tags": []
   },
   "source": [
    "### Compute the gradients."
   ]
  },
  {
   "cell_type": "code",
   "execution_count": 18,
   "id": "f31bade0-20f7-410e-a611-65950d208abd",
   "metadata": {},
   "outputs": [
    {
     "name": "stdout",
     "output_type": "stream",
     "text": [
      "Calculating gradients for dimension: 0 ...\n",
      "Calculating gradients for dimension: 1 ...\n",
      "Calculating gradients for dimension: 2 ...\n",
      "Done!\n"
     ]
    }
   ],
   "source": [
    "# Define the gradient lists.\n",
    "gradMp = []\n",
    "gradSp = []\n",
    "\n",
    "# Process each dimension separately.\n",
    "for i in range(D):\n",
    "    \n",
    "    # Display info.\n",
    "    print(f\"Calculating gradients for dimension: {i} ...\")\n",
    "    \n",
    "    # Reset the lists for each dimension.\n",
    "    gradMi = []\n",
    "    gradSi = []\n",
    "    \n",
    "    # Derivatives with respect to the mean parameters.\n",
    "    for dim_k in Mpar:\n",
    "        for mk in dim_k:\n",
    "            gradMi.append(Esde_dk[i].diff(mk))\n",
    "        # _end_for_\n",
    "    # _end_for_\n",
    "    \n",
    "    # Derivatives with respect to the variance parameters.\n",
    "    for dim_k in Spar:\n",
    "        for sk in dim_k:\n",
    "            gradSi.append(Esde_dk[i].diff(sk))\n",
    "        # _end_for_\n",
    "    # _end_for_\n",
    "    \n",
    "    # Update the lists.\n",
    "    gradMp.append(gradMi)\n",
    "    gradSp.append(gradSi)\n",
    "    \n",
    "# _end_for_\n",
    "\n",
    "print(\"Done!\")"
   ]
  },
  {
   "cell_type": "code",
   "execution_count": null,
   "id": "4cb2894d-8c74-4c10-a31f-f2c453901133",
   "metadata": {},
   "outputs": [],
   "source": []
  },
  {
   "cell_type": "code",
   "execution_count": 19,
   "id": "32f6dce8-026b-477a-ba4d-8bdc5235ff83",
   "metadata": {},
   "outputs": [
    {
     "name": "stdout",
     "output_type": "stream",
     "text": [
      "Initialize gradients with dimension: 0 ...\n",
      "  > Adding gradients from dimension: 1 ...\n",
      "  > Adding gradients from dimension: 2 ...\n",
      "Done!\n"
     ]
    }
   ],
   "source": [
    "# Define total gradients.\n",
    "print(f\"Initialize gradients with dimension: 0 ...\")\n",
    "tot_gradMp = deepcopy(gradMp[0])\n",
    "tot_gradSp = deepcopy(gradSp[0])\n",
    "\n",
    "# Process each dimension separately.\n",
    "for i in range(1, D):\n",
    "    \n",
    "    # Display info.\n",
    "    print(f\"  > Adding gradients from dimension: {i} ...\")\n",
    "    \n",
    "    # Add the dE/dmk.\n",
    "    for grad_mi in gradMp:\n",
    "        \n",
    "        for j, dmk in enumerate(grad_mi):\n",
    "            \n",
    "            tot_gradMp[j] += dmk\n",
    "        # _end_for_\n",
    "        \n",
    "    # _end_for_\n",
    "    \n",
    "    # Add the dE/dsk.\n",
    "    for grad_si in gradSp:\n",
    "        \n",
    "        for j, dsk in enumerate(grad_si):\n",
    "            \n",
    "            tot_gradSp[j] += dsk\n",
    "        # _end_for_\n",
    "        \n",
    "    # _end_for_\n",
    "    \n",
    "# _end_for_\n",
    "\n",
    "print(\"Done!\")"
   ]
  },
  {
   "cell_type": "code",
   "execution_count": 21,
   "id": "0b430c05-058a-4750-b7db-a302df49c2a6",
   "metadata": {},
   "outputs": [
    {
     "name": "stdout",
     "output_type": "stream",
     "text": [
      "2*rho**2*(-c1 + t)*(-c2 + t)/((c0 - c1)*(c0 - c2)) - 4*rho*(-c1 + t)*(-c2 + t)*(d2m0*(-h1 + t)*(-h2 + t)*(-h3 + t)/((h0 - h1)*(h0 - h2)*(h0 - h3)) + d2m1*(-h0 + t)*(-h2 + t)*(-h3 + t)/((-h0 + h1)*(h1 - h2)*(h1 - h3)) + d2m2*(-h0 + t)*(-h1 + t)*(-h3 + t)/((-h0 + h2)*(-h1 + h2)*(h2 - h3)) + d2m3*(-h0 + t)*(-h1 + t)*(-h2 + t)/((-h0 + h3)*(-h1 + h3)*(-h2 + h3)))/((c0 - c1)*(c0 - c2)) + 3*sigma**2*(-c1 + t)*(-c2 + t)/((c0 - c1)*(c0 - c2)) - 3*sigma*(-(-c1 + t)/((c0 - c1)*(c0 - c2)) - (-c2 + t)/((c0 - c1)*(c0 - c2))) + 3*(2*(-c1 + t)/((c0 - c1)*(c0 - c2)) + 2*(-c2 + t)/((c0 - c1)*(c0 - c2)))*(-Sig0 + d0s0*((-c1 + t)/((c0 - c1)*(c0 - c2)) + (-c2 + t)/((c0 - c1)*(c0 - c2))) + d0s1*((-c0 + t)/((-c0 + c1)*(c1 - c2)) + (-c2 + t)/((-c0 + c1)*(c1 - c2))) + d0s2*((-c0 + t)/((-c0 + c2)*(-c1 + c2)) + (-c1 + t)/((-c0 + c2)*(-c1 + c2))))/(4.0*d0s0*(-c1 + t)*(-c2 + t)/((c0 - c1)*(c0 - c2)) + 4.0*d0s1*(-c0 + t)*(-c2 + t)/((-c0 + c1)*(c1 - c2)) + 4.0*d0s2*(-c0 + t)*(-c1 + t)/((-c0 + c2)*(-c1 + c2))) + 2*(-c1 + t)*(-c2 + t)*(d1s0*(-c1 + t)*(-c2 + t)/((c0 - c1)*(c0 - c2)) + d1s1*(-c0 + t)*(-c2 + t)/((-c0 + c1)*(c1 - c2)) + d1s2*(-c0 + t)*(-c1 + t)/((-c0 + c2)*(-c1 + c2)))/((c0 - c1)*(c0 - c2)) + 2*(-c1 + t)*(-c2 + t)*(d2s0*(-c1 + t)*(-c2 + t)/((c0 - c1)*(c0 - c2)) + d2s1*(-c0 + t)*(-c2 + t)/((-c0 + c1)*(c1 - c2)) + d2s2*(-c0 + t)*(-c1 + t)/((-c0 + c2)*(-c1 + c2)))/((c0 - c1)*(c0 - c2)) + 2*(-c1 + t)*(-c2 + t)*(d1m0*(-h1 + t)*(-h2 + t)*(-h3 + t)/((h0 - h1)*(h0 - h2)*(h0 - h3)) + d1m1*(-h0 + t)*(-h2 + t)*(-h3 + t)/((-h0 + h1)*(h1 - h2)*(h1 - h3)) + d1m2*(-h0 + t)*(-h1 + t)*(-h3 + t)/((-h0 + h2)*(-h1 + h2)*(h2 - h3)) + d1m3*(-h0 + t)*(-h1 + t)*(-h2 + t)/((-h0 + h3)*(-h1 + h3)*(-h2 + h3)))**2/((c0 - c1)*(c0 - c2)) + 2*(-c1 + t)*(-c2 + t)*(d2m0*(-h1 + t)*(-h2 + t)*(-h3 + t)/((h0 - h1)*(h0 - h2)*(h0 - h3)) + d2m1*(-h0 + t)*(-h2 + t)*(-h3 + t)/((-h0 + h1)*(h1 - h2)*(h1 - h3)) + d2m2*(-h0 + t)*(-h1 + t)*(-h3 + t)/((-h0 + h2)*(-h1 + h2)*(h2 - h3)) + d2m3*(-h0 + t)*(-h1 + t)*(-h2 + t)/((-h0 + h3)*(-h1 + h3)*(-h2 + h3)))**2/((c0 - c1)*(c0 - c2)) - 0.75*(-c1 + t)*(-c2 + t)*(-Sig0 + d0s0*((-c1 + t)/((c0 - c1)*(c0 - c2)) + (-c2 + t)/((c0 - c1)*(c0 - c2))) + d0s1*((-c0 + t)/((-c0 + c1)*(c1 - c2)) + (-c2 + t)/((-c0 + c1)*(c1 - c2))) + d0s2*((-c0 + t)/((-c0 + c2)*(-c1 + c2)) + (-c1 + t)/((-c0 + c2)*(-c1 + c2))))**2/((c0 - c1)*(c0 - c2)*(d0s0*(-c1 + t)*(-c2 + t)/((c0 - c1)*(c0 - c2)) + d0s1*(-c0 + t)*(-c2 + t)/((-c0 + c1)*(c1 - c2)) + d0s2*(-c0 + t)*(-c1 + t)/((-c0 + c2)*(-c1 + c2)))**2)\n"
     ]
    }
   ],
   "source": [
    "print(tot_gradSp[0])"
   ]
  },
  {
   "cell_type": "markdown",
   "id": "22eaea1a-3785-4d3f-96f4-193b1d04c1eb",
   "metadata": {},
   "source": [
    "## End of notebook"
   ]
  },
  {
   "cell_type": "code",
   "execution_count": null,
   "id": "9b7d6644-f4e2-46c6-82d5-c433f78eefde",
   "metadata": {},
   "outputs": [],
   "source": []
  }
 ],
 "metadata": {
  "kernelspec": {
   "display_name": "tensorflow_25",
   "language": "python",
   "name": "tensorflow_25"
  },
  "language_info": {
   "codemirror_mode": {
    "name": "ipython",
    "version": 3
   },
   "file_extension": ".py",
   "mimetype": "text/x-python",
   "name": "python",
   "nbconvert_exporter": "python",
   "pygments_lexer": "ipython3",
   "version": "3.8.12"
  }
 },
 "nbformat": 4,
 "nbformat_minor": 5
}
