{
 "cells": [
  {
   "cell_type": "markdown",
   "id": "f9499194-335f-46c4-9845-6e9f4b29acc0",
   "metadata": {},
   "source": [
    "# How To ...\n",
    "\n",
    "This notebook shows how to compute the required energy and gradient functions. That will be used for the MeanFieldVarGP algorithm."
   ]
  },
  {
   "cell_type": "code",
   "execution_count": null,
   "id": "d0405a8d-ff1a-47cb-973f-b18e0fe2cc08",
   "metadata": {},
   "outputs": [],
   "source": [
    "import os\n",
    "\n",
    "import sys\n",
    "\n",
    "import dill\n",
    "\n",
    "import sympy as sym\n",
    "\n",
    "from sympy.stats import E, Normal\n",
    "\n",
    "from sympy.utilities.iterables import flatten\n",
    "\n",
    "from copy import deepcopy\n",
    "\n",
    "sys.path.insert(0, os.path.abspath('../../src/'))\n",
    "\n",
    "from numerical.symbolics import LagrangePolynomial"
   ]
  },
  {
   "cell_type": "code",
   "execution_count": null,
   "id": "8887ae9f-482d-47b3-a284-285f37df512e",
   "metadata": {},
   "outputs": [],
   "source": [
    "# Help make the output easier to read.\n",
    "sym.init_printing(use_unicode=True)\n",
    "\n",
    "# Objects referred to in the global dictionary\n",
    "# are recursively traced and serialized.\n",
    "dill.settings['recurse'] = True"
   ]
  },
  {
   "cell_type": "markdown",
   "id": "fffe1703-a2e6-46fa-920f-9237b612bde2",
   "metadata": {},
   "source": [
    "## Dynamical System equations\n",
    "\n",
    "To generate the equations we use the following settings."
   ]
  },
  {
   "cell_type": "code",
   "execution_count": null,
   "id": "8e756644-c93d-4f05-922d-0ad9c9805cba",
   "metadata": {
    "tags": []
   },
   "outputs": [],
   "source": [
    "# |------------------|\n",
    "# | Double Well (1D) |\n",
    "# |------------------|\n",
    "# \n",
    "# D = 1\n",
    "# \n",
    "# p = sym.Matrix([sym.symbols(\"theta\", real=True)])\n",
    "# \n",
    "# fx = sym.Matrix((4 * xt) * (p - xt**2), real=True)\n",
    "# \n",
    "\n",
    "# |-------------------------|\n",
    "# | Ornstein-Uhlenbeck (1D) |\n",
    "# |-------------------------|\n",
    "# \n",
    "# D = 1\n",
    "# \n",
    "# p = sym.Matrix([sym.symbols(\"theta mu\", real=True)])\n",
    "# \n",
    "# fx = sym.Matrix([p[0] * (p[1] - xt[0])], real=True)\n",
    "# \n",
    "\n",
    "# |---------------|\n",
    "# | Lorenz63 (3D) |\n",
    "# |---------------|\n",
    "# \n",
    "# D = 3\n",
    "# \n",
    "# p = sym.Matrix([sym.symbols(\"sigma rho beta\", real=True)])\n",
    "#\n",
    "# fx = sym.Matrix([p[0]*(xt[1] - xt[0]),\n",
    "#                 xt[0]*(p[1] - xt[2]) - xt[1],\n",
    "#                 xt[0]*xt[1] - p[2]*xt[2]], real=True);\n",
    "# "
   ]
  },
  {
   "cell_type": "markdown",
   "id": "78283361-9825-4f20-967b-4f293326783e",
   "metadata": {},
   "source": [
    "## First define the main variables."
   ]
  },
  {
   "cell_type": "code",
   "execution_count": null,
   "id": "37230d60-f326-4a28-a17d-fff9f96b9336",
   "metadata": {},
   "outputs": [],
   "source": [
    "# Systems dimensions.\n",
    "D = 3\n",
    "\n",
    "# Mean and variance functions: m(t), s(t).\n",
    "mt = sym.symbols(f\"m:{D+1}(t)\", real=True)\n",
    "st = sym.symbols(f\"s:{D+1}(t)\", real=True, positive=True)\n",
    "\n",
    "# Random (state) vector: x(t).\n",
    "xt = sym.Matrix([Normal(f\"x{i}(t)\", mt[i], sym.sqrt(st[i])) for i in range(D)])\n",
    "\n",
    "# System noise (diffusion) coefficient vector: sig := sigma^2.\n",
    "sig = sym.symbols(f\"Sig:{D}\", real=True, positive=True)\n",
    "\n",
    "# Model (drift) parameters vector.\n",
    "p = sym.Matrix([sym.symbols(\"sigma rho beta\", real=True)])\n",
    "\n",
    "# Drift function.\n",
    "fx = sym.Matrix([p[0]*(xt[1] - xt[0]),\n",
    "                 xt[0]*(p[1] - xt[2]) - xt[1],\n",
    "                 xt[0]*xt[1] - p[2]*xt[2]], real=True);\n",
    "\n",
    "# Pretty printing.\n",
    "sym.pprint(fx)"
   ]
  },
  {
   "cell_type": "code",
   "execution_count": null,
   "id": "5e9c32d9-ca78-4705-9e01-c8b2ee383237",
   "metadata": {},
   "outputs": [],
   "source": []
  },
  {
   "cell_type": "markdown",
   "id": "6a8299b9-c2c7-44d8-ad0d-44c671bef574",
   "metadata": {},
   "source": [
    "## Compute the mean/variance Lagrange functions."
   ]
  },
  {
   "cell_type": "code",
   "execution_count": null,
   "id": "80c0661e-df68-4350-a4a8-2450b5bfd1ec",
   "metadata": {},
   "outputs": [],
   "source": [
    "# Store the mean and variance functions.\n",
    "Mfun = []\n",
    "Sfun = []\n",
    "\n",
    "# Store the time derivative of the mean and variance functions.\n",
    "dMt = []\n",
    "dSt = []\n",
    "\n",
    "# Store the mean and variance points.\n",
    "Mpar = []\n",
    "Spar = []\n",
    "\n",
    "# Create one polynomial function for each dimension.\n",
    "for i in range(D):\n",
    "    \n",
    "    # Create the mean/variance polynomials.\n",
    "    mt_i, t, mk_i, t_h = LagrangePolynomial(letter=f\"d{i}m\", order=3, fp=\"h\")\n",
    "    st_i, t, sk_i, t_c = LagrangePolynomial(letter=f\"d{i}s\", order=2, fp=\"c\")\n",
    "    \n",
    "    # Store the functions.\n",
    "    Mfun.append(mt_i)\n",
    "    Sfun.append(st_i)\n",
    "    \n",
    "    # Store the Lagrange coefficients.\n",
    "    Mpar.append(mk_i)\n",
    "    Spar.append(sk_i)\n",
    "    \n",
    "    # Get the time derivative functions.\n",
    "    dMt.append(mt_i.diff(t))\n",
    "    dSt.append(st_i.diff(t))\n",
    "    \n",
    "# _end_for_\n",
    "\n",
    "print(\"Done!\")"
   ]
  },
  {
   "cell_type": "code",
   "execution_count": null,
   "id": "12cad13f-bcec-4813-b179-f1b537fe050d",
   "metadata": {},
   "outputs": [],
   "source": []
  },
  {
   "cell_type": "markdown",
   "id": "04ed8de8-ad92-4bf6-b7c2-552f07f41484",
   "metadata": {},
   "source": [
    "## Compute the expectations."
   ]
  },
  {
   "cell_type": "code",
   "execution_count": null,
   "id": "3f31b645-2516-4286-b737-b05bbf52f1b0",
   "metadata": {},
   "outputs": [],
   "source": [
    "# E[f(x)]\n",
    "Efx = E(fx).simplify(); Efx"
   ]
  },
  {
   "cell_type": "code",
   "execution_count": null,
   "id": "1e12af1a-4cd0-41c9-9ae3-80c32c9856c7",
   "metadata": {},
   "outputs": [],
   "source": [
    "# E[f(x)^2]\n",
    "Efx2 = E(fx.multiply_elementwise(fx)).simplify(); Efx2"
   ]
  },
  {
   "cell_type": "code",
   "execution_count": null,
   "id": "a6f440b4-c4cf-476c-91e8-dcd0b1044a50",
   "metadata": {},
   "outputs": [],
   "source": [
    "# Jacobian: dfx/dx\n",
    "dfxdx = fx.jacobian(xt); dfxdx"
   ]
  },
  {
   "cell_type": "code",
   "execution_count": null,
   "id": "b382278d-741d-4477-b8d7-b22476ffc21b",
   "metadata": {},
   "outputs": [],
   "source": [
    "# E[dfx/dx]\n",
    "Edfxdx = E(dfxdx).diagonal().simplify(); Edfxdx"
   ]
  },
  {
   "cell_type": "code",
   "execution_count": null,
   "id": "f1fc164b-476c-47c7-aab3-aeede2e357d6",
   "metadata": {},
   "outputs": [],
   "source": []
  },
  {
   "cell_type": "markdown",
   "id": "e9b6406d-cba5-47f9-8d08-27da8f5cf7e1",
   "metadata": {},
   "source": [
    "## Put all the $E_{sde}$ terms together.\n",
    "\n",
    "These is given by the expression:\n",
    "\n",
    "$E_{sde}(t) = \\frac{1}{2} \\sum_{i=1}^{D} \\frac{1}{\\sigma_{i}^2} \\bigg( E[f_{i}^2]_{q_t} -2 E[f_{i}]_{q_t} \\dot{m_i}(t) + \\dot{m_i}^2(t) + \\frac{(\\dot{s_i}(t) - \\sigma_{i}^2)^2}{4 s_{i}(t)} + (\\sigma_{i}^2 - \\dot{s_i}(t)) E\\big[\\frac{\\partial f_i}{\\partial x_i}\\big]_{q_t}\\bigg)$\n",
    "\n",
    "where $E[\\cdot]_{q_t}$ is the expected value with respect to the Gaussian process.\n",
    "\n",
    "In essence the following cell computes all the terms inside the parenthesis (one for each dimension)."
   ]
  },
  {
   "cell_type": "code",
   "execution_count": null,
   "id": "dd19f1e2-271c-4d04-9bf1-f3748477113a",
   "metadata": {},
   "outputs": [],
   "source": [
    "# Stores the Esde_i.\n",
    "Esde = []\n",
    "\n",
    "# Get the expression for each dimension.\n",
    "for i in range(D):\n",
    "    \n",
    "    # Display info.\n",
    "    print(f\"Estimating Esde_{i} ...\")\n",
    "    \n",
    "    # Update the list.\n",
    "    Esde.append(Efx2[i] - (2.0 * Efx[i] * dMt[i]) + dMt[i]**2 + (dSt[i] - sig[i])**2/(4.0 * Sfun[i]) + (sig[i] - dSt[i]) * Edfxdx[i])\n",
    "    \n",
    "# _end_for_\n",
    "\n",
    "print(\"Done!\")"
   ]
  },
  {
   "cell_type": "code",
   "execution_count": null,
   "id": "b4eafe06-4cde-4e6c-a113-9fe0a3c740ce",
   "metadata": {
    "jupyter": {
     "source_hidden": true
    },
    "tags": []
   },
   "outputs": [],
   "source": [
    "# Print the energy functions.\n",
    "for n, En in enumerate(Esde):\n",
    "    print(n, \":\")\n",
    "    sym.pprint(En)"
   ]
  },
  {
   "cell_type": "code",
   "execution_count": null,
   "id": "5beccbd7-5641-4c91-8e13-dd031f188207",
   "metadata": {},
   "outputs": [],
   "source": [
    "# Stores the parameterized Esde.\n",
    "Esde_dk = []\n",
    "\n",
    "# Count the succesful simplifications.\n",
    "count_collect = 0\n",
    "\n",
    "# Process each dimension separately.\n",
    "for i in range(D):\n",
    "    \n",
    "    # Display info.\n",
    "    print(f\"Processing dimension: {i} ...\")\n",
    "    \n",
    "    # Initialize temporary result.\n",
    "    tmp_Ei = deepcopy(Esde[i])\n",
    "    \n",
    "    # Replace the mean functions.\n",
    "    for j, mf_j in enumerate(Mfun):\n",
    "        tmp_Ei = tmp_Ei.replace(mt[j], mf_j)\n",
    "    # _end_for_\n",
    "    \n",
    "    # Replace the variance functions.\n",
    "    for j, sf_j in enumerate(Sfun):\n",
    "        tmp_Ei = tmp_Ei.replace(st[j], sf_j)\n",
    "    # _end_for_\n",
    "    \n",
    "    # Atempt a \"collect\" simplification.\n",
    "    collect_expr = tmp_Ei.collect(Mpar[i]).collect(Spar[i])\n",
    "    \n",
    "    # Make sure the expressions are equal.\n",
    "    if tmp_Ei.equals(collect_expr):\n",
    "        \n",
    "        # Append the simplified expression.\n",
    "        Esde_dk.append(collect_expr)\n",
    "        \n",
    "        # Increase the success counter.\n",
    "        count_collect += 1\n",
    "    else:\n",
    "        \n",
    "        # Append the non-simplified expression.\n",
    "        Esde_dk.append(tmp_Ei)\n",
    "    # _end_if_\n",
    "    \n",
    "# _end_for_\n",
    "\n",
    "print(f\"Done! (Count collect = {count_collect}/{D})\")"
   ]
  },
  {
   "cell_type": "code",
   "execution_count": null,
   "id": "df355019-d3b9-468c-8b1a-33b414ebfcd6",
   "metadata": {
    "jupyter": {
     "source_hidden": true
    },
    "tags": []
   },
   "outputs": [],
   "source": [
    "# Print the parameterized energy functions.\n",
    "for l, Ei in enumerate(Esde_dk):\n",
    "    \n",
    "    print(f\"Showing dimension {l}:\\n\")\n",
    "    \n",
    "    sym.pprint(Ei)\n",
    "# _end_for_\n",
    "\n",
    "print(\"Finished!\")"
   ]
  },
  {
   "cell_type": "markdown",
   "id": "2b962ffa-7d55-4def-8dcb-e8f04d8c191b",
   "metadata": {
    "tags": []
   },
   "source": [
    "## Compute the gradients."
   ]
  },
  {
   "cell_type": "code",
   "execution_count": null,
   "id": "f31bade0-20f7-410e-a611-65950d208abd",
   "metadata": {},
   "outputs": [],
   "source": [
    "# Define the gradient lists.\n",
    "gradMp = []\n",
    "gradSp = []\n",
    "\n",
    "# Process each dimension separately.\n",
    "for i in range(D):\n",
    "    \n",
    "    # Display info.\n",
    "    print(f\"Calculating gradients for dimension: {i} ...\")\n",
    "    \n",
    "    # Reset the lists for each dimension.\n",
    "    gradMi = []\n",
    "    gradSi = []\n",
    "    \n",
    "    # Derivatives with respect to the mean parameters.\n",
    "    for dim_k in Mpar:\n",
    "        for mk in dim_k:\n",
    "            gradMi.append(Esde_dk[i].diff(mk))\n",
    "        # _end_for_\n",
    "    # _end_for_\n",
    "    \n",
    "    # Derivatives with respect to the variance parameters.\n",
    "    for dim_k in Spar:\n",
    "        for sk in dim_k:\n",
    "            gradSi.append(Esde_dk[i].diff(sk))\n",
    "        # _end_for_\n",
    "    # _end_for_\n",
    "    \n",
    "    # Update the lists.\n",
    "    gradMp.append(gradMi)\n",
    "    gradSp.append(gradSi)\n",
    "    \n",
    "# _end_for_\n",
    "\n",
    "print(\"Done!\")"
   ]
  },
  {
   "cell_type": "markdown",
   "id": "af10f8be-b9b8-4ff0-a453-6617ee0eaf69",
   "metadata": {},
   "source": [
    "## Generating lambda functions."
   ]
  },
  {
   "cell_type": "code",
   "execution_count": null,
   "id": "6db82990-9a47-4dc2-934e-06ec4563a5a2",
   "metadata": {},
   "outputs": [],
   "source": [
    "# Lists to store the results.\n",
    "func_Esde = []\n",
    "grad_Esde_mt = []\n",
    "grad_Esde_st = []\n",
    "\n",
    "for i in range(D):\n",
    "    \n",
    "    # Display information.\n",
    "    print(f\"Generating Lambda functions {i} ... \")\n",
    "    \n",
    "    func_Esde.append(sym.lambdify([t, *flatten([t_h, t_c, Mpar, Spar, sig, p])],\n",
    "                                  Esde_dk[i], modules=[\"scipy\", \"numpy\"], cse=True))\n",
    "    \n",
    "    grad_Esde_mt.append(sym.lambdify([t, *flatten([t_h, t_c, Mpar, Spar, sig, p])],\n",
    "                                     gradMp[i], modules=[\"scipy\", \"numpy\"], cse=True))\n",
    "\n",
    "    grad_Esde_st.append(sym.lambdify([t, *flatten([t_h, t_c, Mpar, Spar, sig, p])],\n",
    "                                     gradSp[i], modules=[\"scipy\", \"numpy\"], cse=True))\n",
    "# _end_for_\n",
    "\n",
    "# Final message.\n",
    "print(\"Done!\")"
   ]
  },
  {
   "cell_type": "code",
   "execution_count": null,
   "id": "ec14a931-7d58-4e4a-80ab-31e65271c610",
   "metadata": {},
   "outputs": [],
   "source": []
  },
  {
   "cell_type": "markdown",
   "id": "87385143-7df7-482c-b268-39d24c8761be",
   "metadata": {
    "tags": []
   },
   "source": [
    "## Save the functions to files."
   ]
  },
  {
   "cell_type": "code",
   "execution_count": null,
   "id": "081b7962-f42d-4e8a-b101-04577a06abc6",
   "metadata": {
    "jupyter": {
     "source_hidden": true
    },
    "tags": []
   },
   "outputs": [],
   "source": [
    "for i in range(D):\n",
    "    \n",
    "    with open(f\"/Users/michailvrettas/Documents/GitHub/MeanFieldVarGP/src/dynamical_systems/energy_functions/OU_Esde_{i}.sym\", \"wb\") as sym_file:\n",
    "        \n",
    "        dill.dump(func_Esde[i], sym_file)\n",
    "        \n",
    "    # _end_with_\n",
    "    \n",
    "    with open(f\"/Users/michailvrettas/Documents/GitHub/MeanFieldVarGP/src/dynamical_systems/gradient_functions/dOU_Esde_dM{i}.sym\", \"wb\") as sym_file:\n",
    "        \n",
    "        dill.dump(grad_Esde_mt[i], sym_file)\n",
    "        \n",
    "    # _end_with_\n",
    "    \n",
    "    with open(f\"/Users/michailvrettas/Documents/GitHub/MeanFieldVarGP/src/dynamical_systems/gradient_functions/dOU_Esde_dS{i}.sym\", \"wb\") as sym_file:\n",
    "        \n",
    "        dill.dump(grad_Esde_st[i], sym_file)\n",
    "        \n",
    "    # _end_with_\n",
    "    \n",
    "# _end_for_\n",
    "\n",
    "print(\"Done!\")"
   ]
  },
  {
   "cell_type": "markdown",
   "id": "22eaea1a-3785-4d3f-96f4-193b1d04c1eb",
   "metadata": {},
   "source": [
    "## End of notebook"
   ]
  },
  {
   "cell_type": "code",
   "execution_count": null,
   "id": "f9dc3d2b-8098-48e8-9275-842f19b2c402",
   "metadata": {},
   "outputs": [],
   "source": []
  }
 ],
 "metadata": {
  "kernelspec": {
   "display_name": "tensorflow_25",
   "language": "python",
   "name": "tensorflow_25"
  },
  "language_info": {
   "codemirror_mode": {
    "name": "ipython",
    "version": 3
   },
   "file_extension": ".py",
   "mimetype": "text/x-python",
   "name": "python",
   "nbconvert_exporter": "python",
   "pygments_lexer": "ipython3",
   "version": "3.8.12"
  }
 },
 "nbformat": 4,
 "nbformat_minor": 5
}
